{
 "cells": [
  {
   "cell_type": "code",
   "execution_count": 21,
   "metadata": {},
   "outputs": [],
   "source": [
    "import numpy as np\n",
    "import matplotlib.pyplot as plt\n",
    "from sortedcontainers import SortedList\n",
    "import pandas as pd\n",
    "from datetime import datetime"
   ]
  },
  {
   "cell_type": "code",
   "execution_count": 22,
   "metadata": {},
   "outputs": [],
   "source": [
    "def get_data(limit=None):\n",
    "    df = pd.read_csv('train.csv')\n",
    "    data = df.values\n",
    "    np.random.shuffle(data)\n",
    "    X = data[:, 1:] / 255.0 \n",
    "    Y = data[:, 0]\n",
    "    if limit is not None:\n",
    "        X, Y = X[:limit], Y[:limit]\n",
    "    return X, Y"
   ]
  },
  {
   "cell_type": "code",
   "execution_count": 23,
   "metadata": {},
   "outputs": [],
   "source": [
    "class KNN(object):\n",
    "    def __init__(self, k):\n",
    "        self.k = k\n",
    "\n",
    "    def fit(self, X, y):\n",
    "        self.X = X\n",
    "        self.y = y\n",
    "\n",
    "    def predict(self, X):\n",
    "        y = np.zeros(len(X))\n",
    "        for i,x in enumerate(X):\n",
    "            sl = SortedList() \n",
    "            for j,xt in enumerate(self.X): \n",
    "                diff = x - xt\n",
    "                d = diff.dot(diff)\n",
    "                if len(sl) < self.k:\n",
    "                    sl.add( (d, self.y[j]) )\n",
    "                else:\n",
    "                    if d < sl[-1][0]:\n",
    "                        del sl[-1]\n",
    "                        sl.add( (d, self.y[j]) )\n",
    "            \n",
    "            votes = {}\n",
    "            for _, v in sl:\n",
    "                votes[v] = votes.get(v,0) + 1\n",
    "            \n",
    "            max_votes = 0\n",
    "            max_votes_class = -1\n",
    "            for v,count in votes.items():\n",
    "                if count > max_votes:\n",
    "                    max_votes = count\n",
    "                    max_votes_class = v\n",
    "            y[i] = max_votes_class\n",
    "        return y\n",
    "\n",
    "    def score(self, X, Y):\n",
    "        P = self.predict(X)\n",
    "        return np.mean(P == Y)"
   ]
  },
  {
   "cell_type": "code",
   "execution_count": 24,
   "metadata": {},
   "outputs": [
    {
     "name": "stdout",
     "output_type": "stream",
     "text": [
      "Reading in and transforming data...\n",
      "\n",
      "k = 1\n",
      "Training time: 0:00:00.000027\n",
      "Train accuracy: 1.0\n",
      "Time to compute train accuracy: 0:00:10.018677 Train size: 1000\n",
      "Test accuracy: 0.9\n",
      "Time to compute test accuracy: 0:00:14.742845 Test size: 1000\n",
      "\n",
      "k = 2\n",
      "Training time: 0:00:00.000021\n",
      "Train accuracy: 1.0\n",
      "Time to compute train accuracy: 0:00:09.834220 Train size: 1000\n",
      "Test accuracy: 0.9\n",
      "Time to compute test accuracy: 0:00:13.846527 Test size: 1000\n",
      "\n",
      "k = 3\n",
      "Training time: 0:00:00.000004\n",
      "Train accuracy: 0.951\n",
      "Time to compute train accuracy: 0:00:09.803448 Train size: 1000\n",
      "Test accuracy: 0.905\n",
      "Time to compute test accuracy: 0:00:13.919843 Test size: 1000\n",
      "\n",
      "k = 4\n",
      "Training time: 0:00:00.000004\n",
      "Train accuracy: 0.957\n",
      "Time to compute train accuracy: 0:00:09.980356 Train size: 1000\n",
      "Test accuracy: 0.905\n",
      "Time to compute test accuracy: 0:00:14.500040 Test size: 1000\n",
      "\n",
      "k = 5\n",
      "Training time: 0:00:00.000013\n",
      "Train accuracy: 0.938\n",
      "Time to compute train accuracy: 0:00:10.381053 Train size: 1000\n",
      "Test accuracy: 0.897\n",
      "Time to compute test accuracy: 0:00:17.786602 Test size: 1000\n"
     ]
    },
    {
     "data": {
      "image/png": "[encoded data removed]",
      "text/plain": [
       "<Figure size 432x288 with 1 Axes>"
      ]
     },
     "metadata": {},
     "output_type": "display_data"
    }
   ],
   "source": [
    "if __name__ == '__main__':\n",
    "    X, Y = get_data(2000)\n",
    "    Ntrain = 1000\n",
    "    Xtrain, Ytrain = X[:Ntrain], Y[:Ntrain]\n",
    "    Xtest, Ytest = X[Ntrain:], Y[Ntrain:]\n",
    "    train_scores = []\n",
    "    test_scores = []\n",
    "    ks = (1,2,3,4,5)\n",
    "    for k in ks:\n",
    "        print(\"\\nk =\", k)\n",
    "        knn = KNN(k)\n",
    "        t0 = datetime.now()\n",
    "        knn.fit(Xtrain, Ytrain)\n",
    "        print(\"Training time:\", (datetime.now() - t0))\n",
    "\n",
    "        t0 = datetime.now()\n",
    "        train_score = knn.score(Xtrain, Ytrain)\n",
    "        train_scores.append(train_score)\n",
    "        print(\"Train accuracy:\", train_score)\n",
    "        print(\"Time to compute train accuracy:\", (datetime.now() - t0), \"Train size:\", len(Ytrain))\n",
    "\n",
    "        t0 = datetime.now()\n",
    "        test_score = knn.score(Xtest, Ytest)\n",
    "        print(\"Test accuracy:\", test_score)\n",
    "        test_scores.append(test_score)\n",
    "        print(\"Time to compute test accuracy:\", (datetime.now() - t0), \"Test size:\", len(Ytest))\n",
    "\n",
    "    plt.plot(ks, train_scores, label='train scores')\n",
    "    plt.plot(ks, test_scores, label='test scores')\n",
    "    plt.legend()\n",
    "    plt.show()"
   ]
  },
  {
   "cell_type": "code",
   "execution_count": null,
   "metadata": {},
   "outputs": [],
   "source": []
  }
 ],
 "metadata": {
  "kernelspec": {
   "display_name": "Python 3",
   "language": "python",
   "name": "python3"
  },
  "language_info": {
   "codemirror_mode": {
    "name": "ipython",
    "version": 3
   },
   "file_extension": ".py",
   "mimetype": "text/x-python",
   "name": "python",
   "nbconvert_exporter": "python",
   "pygments_lexer": "ipython3",
   "version": "3.6.5"
  }
 },
 "nbformat": 4,
 "nbformat_minor": 2
}
